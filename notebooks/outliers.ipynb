{
 "cells": [
  {
   "cell_type": "code",
   "execution_count": 2,
   "id": "48203e5a-79ec-4b45-ba51-aeb3f4b71fec",
   "metadata": {},
   "outputs": [],
   "source": [
    "import pandas as pd\n",
    "import numpy as np\n",
    "import scipy\n",
    "import sklearn\n"
   ]
  },
  {
   "cell_type": "code",
   "execution_count": 16,
   "id": "f977ff99-216b-4057-8805-2d1630e23a56",
   "metadata": {},
   "outputs": [],
   "source": [
    "data = pd.read_csv(r\"melb_data.csv\")"
   ]
  },
  {
   "cell_type": "code",
   "execution_count": 29,
   "id": "09ef9853-1e7d-4be1-ae54-e4803c535d7f",
   "metadata": {},
   "outputs": [],
   "source": [
    "from sklearn.model_selection import train_test_split\n",
    "\n",
    "# Set the target\n",
    "y = data['Price']\n",
    "\n",
    "# Firstly drop categorical data types\n",
    "melb_features = data.drop(['Price'], axis=1) #drop the target column\n",
    "\n",
    "X = melb_features.select_dtypes(exclude=['object'])\n",
    "\n",
    "# Divide data into training and validation sets\n",
    "X_train, X_valid, y_train, y_valid = train_test_split(X, y, train_size=0.8, test_size=0.2, random_state=0)"
   ]
  },
  {
   "cell_type": "code",
   "execution_count": 1,
   "id": "8dc9cf85-a544-4116-a67e-640456c9e68a",
   "metadata": {},
   "outputs": [],
   "source": [
    "# DETECT AND DEAL WITH OUTLIERS"
   ]
  },
  {
   "cell_type": "code",
   "execution_count": null,
   "id": "24bbc12c-a9bc-447a-a18e-b346e1eeace1",
   "metadata": {},
   "outputs": [],
   "source": [
    "from scipy import stats\n",
    "import pandas as pd\n",
    "\n",
    "# Calculate Z-scores for each row in the training and validation datasets\n",
    "X_train_zscores = stats.zscore(X_train, axis=1)\n",
    "X_valid_zscores = stats.zscore(X_valid, axis=1)\n",
    "\n",
    "# Define the threshold for outlier detection\n",
    "threshold = 3\n",
    "\n",
    "# Identify rows in X_train and X_valid with values above the threshold (meaning they're outliers)\n",
    "outliers_train = np.abs(X_train_zscores) > threshold\n",
    "outliers_valid = np.abs(X_valid_zscores) > threshold\n",
    "\n",
    "# Remove rows identified as outliers from X_train and X_valid (~ means NOT)\n",
    "X_train_no_outliers = X_train[~outliers_train]\n",
    "X_valid_no_outliers = X_valid[~outliers_valid]\n",
    "\n",
    "# Display the results\n",
    "print(\"Original X_train shape:\", X_train.shape)\n",
    "print(\"X_train shape after removing outliers:\", X_train_no_outliers.shape)\n",
    "\n",
    "print(\"Original X_valid shape:\", X_valid.shape)\n",
    "print(\"X_valid shape after removing outliers:\", X_valid_no_outliers.shape)"
   ]
  },
  {
   "cell_type": "code",
   "execution_count": null,
   "id": "110a09c4-f9c1-4442-be34-d89819e13122",
   "metadata": {},
   "outputs": [],
   "source": []
  }
 ],
 "metadata": {
  "kernelspec": {
   "display_name": "Python 3 (ipykernel)",
   "language": "python",
   "name": "python3"
  },
  "language_info": {
   "codemirror_mode": {
    "name": "ipython",
    "version": 3
   },
   "file_extension": ".py",
   "mimetype": "text/x-python",
   "name": "python",
   "nbconvert_exporter": "python",
   "pygments_lexer": "ipython3",
   "version": "3.12.6"
  }
 },
 "nbformat": 4,
 "nbformat_minor": 5
}
