{
 "cells": [
  {
   "cell_type": "code",
   "execution_count": 2,
   "id": "48203e5a-79ec-4b45-ba51-aeb3f4b71fec",
   "metadata": {},
   "outputs": [],
   "source": [
    "import pandas as pd\n",
    "import numpy as np\n",
    "import scipy\n",
    "import sklearn\n"
   ]
  },
  {
   "cell_type": "code",
   "execution_count": 16,
   "id": "f977ff99-216b-4057-8805-2d1630e23a56",
   "metadata": {},
   "outputs": [],
   "source": [
    "data = pd.read_csv(r\"melb_data.csv\")"
   ]
  },
  {
   "cell_type": "code",
   "execution_count": 29,
   "id": "09ef9853-1e7d-4be1-ae54-e4803c535d7f",
   "metadata": {},
   "outputs": [],
   "source": [
    "from sklearn.model_selection import train_test_split\n",
    "\n",
    "# Set the target\n",
    "y = data['Price']\n",
    "\n",
    "# Firstly drop categorical data types\n",
    "melb_features = data.drop(['Price'], axis=1) #drop the target column\n",
    "\n",
    "X = melb_features.select_dtypes(exclude=['object'])\n",
    "\n",
    "# Divide data into training and validation sets\n",
    "X_train, X_valid, y_train, y_valid = train_test_split(X, y, train_size=0.8, test_size=0.2, random_state=0)"
   ]
  },
  {
   "cell_type": "code",
   "execution_count": 2,
   "id": "24bbc12c-a9bc-447a-a18e-b346e1eeace1",
   "metadata": {},
   "outputs": [],
   "source": [
    "# STANDARDIZE FEATURES"
   ]
  },
  {
   "cell_type": "code",
   "execution_count": null,
   "id": "69bf6bb1-0b60-4d64-ac4a-9b79e2db4d1b",
   "metadata": {},
   "outputs": [],
   "source": [
    "from sklearn.preprocessing import StandardScaler\n",
    "\n",
    "# Initialize the StandardScaler\n",
    "scaler = StandardScaler()\n",
    "\n",
    "# Fit the scaler on the training and validation data and transform them\n",
    "X_train_standardized = scaler.fit_transform(X_train)\n",
    "X_valid_standardized = scaler.transform(X_valid)\n",
    "\n",
    "# Convert the standardized data back into DataFrames to keep column names\n",
    "X_train_standardized = pd.DataFrame(X_train_standardized, columns=X_train.columns, index=X_train.index)\n",
    "X_valid_standardized = pd.DataFrame(X_valid_standardized, columns=X_valid.columns, index=X_valid.index)\n",
    "\n",
    "# Display the results\n",
    "print(\"First few rows of standardized X_train:\")\n",
    "print(X_train_standardized.head())\n",
    "\n",
    "print(\"First few rows of standardized X_valid:\")\n",
    "print(X_valid_standardized.head())"
   ]
  }
 ],
 "metadata": {
  "kernelspec": {
   "display_name": "Python 3 (ipykernel)",
   "language": "python",
   "name": "python3"
  },
  "language_info": {
   "codemirror_mode": {
    "name": "ipython",
    "version": 3
   },
   "file_extension": ".py",
   "mimetype": "text/x-python",
   "name": "python",
   "nbconvert_exporter": "python",
   "pygments_lexer": "ipython3",
   "version": "3.12.6"
  }
 },
 "nbformat": 4,
 "nbformat_minor": 5
}
